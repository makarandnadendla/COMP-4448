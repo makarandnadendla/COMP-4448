{
 "metadata": {
  "language_info": {
   "codemirror_mode": {
    "name": "ipython",
    "version": 3
   },
   "file_extension": ".py",
   "mimetype": "text/x-python",
   "name": "python",
   "nbconvert_exporter": "python",
   "pygments_lexer": "ipython3",
   "version": "3.7.6-final"
  },
  "orig_nbformat": 2,
  "kernelspec": {
   "name": "python3",
   "display_name": "Python 3",
   "language": "python"
  }
 },
 "nbformat": 4,
 "nbformat_minor": 2,
 "cells": [
  {
   "source": [
    "# K Nearest Neighbors\n",
    "University of Denver\n",
    "\n",
    "Makarand Nadendla"
   ],
   "cell_type": "markdown",
   "metadata": {}
  },
  {
   "cell_type": "code",
   "execution_count": 121,
   "metadata": {},
   "outputs": [],
   "source": [
    "import numpy as np \n",
    "import pandas as pd \n",
    "from matplotlib import pyplot as plt\n",
    "from sklearn.neighbors import KNeighborsClassifier, KNeighborsRegressor\n",
    "from sklearn.model_selection import GridSearchCV, train_test_split\n",
    "from sklearn.ensemble import RandomForestRegressor, RandomForestClassifier\n",
    "from sklearn.metrics import mean_squared_error\n",
    "from sklearn.pipeline import Pipeline\n",
    "from sklearn.preprocessing import StandardScaler"
   ]
  },
  {
   "cell_type": "code",
   "execution_count": 6,
   "metadata": {},
   "outputs": [],
   "source": [
    "delivery_train = pd.read_csv(\"delivery_time_train_data.csv\")\n",
    "delivery_test = pd.read_csv(\"delivery_time_test_data.csv\")\n",
    "student_train = pd.read_csv(\"student_train_data.csv\")\n",
    "student_test = pd.read_csv(\"student_test_data.csv\")"
   ]
  },
  {
   "cell_type": "code",
   "execution_count": 7,
   "metadata": {},
   "outputs": [
    {
     "output_type": "execute_result",
     "data": {
      "text/plain": [
       "   Miles  Deliveries  Time\n",
       "0    100           4   9.3\n",
       "1     50           3   4.8\n",
       "2    100           4   8.9\n",
       "3    100           2   6.5\n",
       "4     50           2   4.2"
      ],
      "text/html": "<div>\n<style scoped>\n    .dataframe tbody tr th:only-of-type {\n        vertical-align: middle;\n    }\n\n    .dataframe tbody tr th {\n        vertical-align: top;\n    }\n\n    .dataframe thead th {\n        text-align: right;\n    }\n</style>\n<table border=\"1\" class=\"dataframe\">\n  <thead>\n    <tr style=\"text-align: right;\">\n      <th></th>\n      <th>Miles</th>\n      <th>Deliveries</th>\n      <th>Time</th>\n    </tr>\n  </thead>\n  <tbody>\n    <tr>\n      <th>0</th>\n      <td>100</td>\n      <td>4</td>\n      <td>9.3</td>\n    </tr>\n    <tr>\n      <th>1</th>\n      <td>50</td>\n      <td>3</td>\n      <td>4.8</td>\n    </tr>\n    <tr>\n      <th>2</th>\n      <td>100</td>\n      <td>4</td>\n      <td>8.9</td>\n    </tr>\n    <tr>\n      <th>3</th>\n      <td>100</td>\n      <td>2</td>\n      <td>6.5</td>\n    </tr>\n    <tr>\n      <th>4</th>\n      <td>50</td>\n      <td>2</td>\n      <td>4.2</td>\n    </tr>\n  </tbody>\n</table>\n</div>"
     },
     "metadata": {},
     "execution_count": 7
    }
   ],
   "source": [
    "delivery_train.head()"
   ]
  },
  {
   "cell_type": "code",
   "execution_count": 8,
   "metadata": {},
   "outputs": [
    {
     "output_type": "execute_result",
     "data": {
      "text/plain": [
       "   Miles  Deliveries  Time\n",
       "0     50           3   4.6\n",
       "1     65           2   5.5\n",
       "2     80           1   6.3\n",
       "3     70           1   6.2\n",
       "4     70           5   8.5"
      ],
      "text/html": "<div>\n<style scoped>\n    .dataframe tbody tr th:only-of-type {\n        vertical-align: middle;\n    }\n\n    .dataframe tbody tr th {\n        vertical-align: top;\n    }\n\n    .dataframe thead th {\n        text-align: right;\n    }\n</style>\n<table border=\"1\" class=\"dataframe\">\n  <thead>\n    <tr style=\"text-align: right;\">\n      <th></th>\n      <th>Miles</th>\n      <th>Deliveries</th>\n      <th>Time</th>\n    </tr>\n  </thead>\n  <tbody>\n    <tr>\n      <th>0</th>\n      <td>50</td>\n      <td>3</td>\n      <td>4.6</td>\n    </tr>\n    <tr>\n      <th>1</th>\n      <td>65</td>\n      <td>2</td>\n      <td>5.5</td>\n    </tr>\n    <tr>\n      <th>2</th>\n      <td>80</td>\n      <td>1</td>\n      <td>6.3</td>\n    </tr>\n    <tr>\n      <th>3</th>\n      <td>70</td>\n      <td>1</td>\n      <td>6.2</td>\n    </tr>\n    <tr>\n      <th>4</th>\n      <td>70</td>\n      <td>5</td>\n      <td>8.5</td>\n    </tr>\n  </tbody>\n</table>\n</div>"
     },
     "metadata": {},
     "execution_count": 8
    }
   ],
   "source": [
    "delivery_test.head()"
   ]
  },
  {
   "cell_type": "code",
   "execution_count": 9,
   "metadata": {},
   "outputs": [
    {
     "output_type": "execute_result",
     "data": {
      "text/plain": [
       "    GPA  Age  Dropped\n",
       "0  3.78   21        0\n",
       "1  2.38   27        0\n",
       "2  3.05   21        1\n",
       "3  2.19   28        1\n",
       "4  3.22   23        0"
      ],
      "text/html": "<div>\n<style scoped>\n    .dataframe tbody tr th:only-of-type {\n        vertical-align: middle;\n    }\n\n    .dataframe tbody tr th {\n        vertical-align: top;\n    }\n\n    .dataframe thead th {\n        text-align: right;\n    }\n</style>\n<table border=\"1\" class=\"dataframe\">\n  <thead>\n    <tr style=\"text-align: right;\">\n      <th></th>\n      <th>GPA</th>\n      <th>Age</th>\n      <th>Dropped</th>\n    </tr>\n  </thead>\n  <tbody>\n    <tr>\n      <th>0</th>\n      <td>3.78</td>\n      <td>21</td>\n      <td>0</td>\n    </tr>\n    <tr>\n      <th>1</th>\n      <td>2.38</td>\n      <td>27</td>\n      <td>0</td>\n    </tr>\n    <tr>\n      <th>2</th>\n      <td>3.05</td>\n      <td>21</td>\n      <td>1</td>\n    </tr>\n    <tr>\n      <th>3</th>\n      <td>2.19</td>\n      <td>28</td>\n      <td>1</td>\n    </tr>\n    <tr>\n      <th>4</th>\n      <td>3.22</td>\n      <td>23</td>\n      <td>0</td>\n    </tr>\n  </tbody>\n</table>\n</div>"
     },
     "metadata": {},
     "execution_count": 9
    }
   ],
   "source": [
    "student_train.head()"
   ]
  },
  {
   "cell_type": "code",
   "execution_count": 10,
   "metadata": {},
   "outputs": [
    {
     "output_type": "execute_result",
     "data": {
      "text/plain": [
       "    GPA  Age  Dropped\n",
       "0  2.49   26        1\n",
       "1  2.67   29        0\n",
       "2  2.86   29        1\n",
       "3  2.21   26        0\n",
       "4  2.91   20        1"
      ],
      "text/html": "<div>\n<style scoped>\n    .dataframe tbody tr th:only-of-type {\n        vertical-align: middle;\n    }\n\n    .dataframe tbody tr th {\n        vertical-align: top;\n    }\n\n    .dataframe thead th {\n        text-align: right;\n    }\n</style>\n<table border=\"1\" class=\"dataframe\">\n  <thead>\n    <tr style=\"text-align: right;\">\n      <th></th>\n      <th>GPA</th>\n      <th>Age</th>\n      <th>Dropped</th>\n    </tr>\n  </thead>\n  <tbody>\n    <tr>\n      <th>0</th>\n      <td>2.49</td>\n      <td>26</td>\n      <td>1</td>\n    </tr>\n    <tr>\n      <th>1</th>\n      <td>2.67</td>\n      <td>29</td>\n      <td>0</td>\n    </tr>\n    <tr>\n      <th>2</th>\n      <td>2.86</td>\n      <td>29</td>\n      <td>1</td>\n    </tr>\n    <tr>\n      <th>3</th>\n      <td>2.21</td>\n      <td>26</td>\n      <td>0</td>\n    </tr>\n    <tr>\n      <th>4</th>\n      <td>2.91</td>\n      <td>20</td>\n      <td>1</td>\n    </tr>\n  </tbody>\n</table>\n</div>"
     },
     "metadata": {},
     "execution_count": 10
    }
   ],
   "source": [
    "student_test.head()"
   ]
  },
  {
   "cell_type": "code",
   "execution_count": 11,
   "metadata": {},
   "outputs": [],
   "source": [
    "X_delivery_train = delivery_train[[\"Miles\", \"Deliveries\"]]\n",
    "y_delivery_train = delivery_train[\"Time\"]\n",
    "\n",
    "X_delivery_test = delivery_test[[\"Miles\", \"Deliveries\"]]\n",
    "y_delivery_test = delivery_test[\"Time\"]\n",
    "\n",
    "X_student_train = student_train[[\"GPA\", \"Age\"]]\n",
    "y_student_train = student_train[\"Dropped\"]\n",
    "\n",
    "X_student_test = student_test[[\"GPA\", \"Age\"]]\n",
    "y_student_test = student_test[\"Dropped\"]\n"
   ]
  },
  {
   "cell_type": "code",
   "execution_count": 12,
   "metadata": {},
   "outputs": [
    {
     "output_type": "stream",
     "name": "stdout",
     "text": [
      "(199, 2)\n(199,)\n\n(101, 2)\n(101,)\n\n(400, 2)\n(400,)\n\n(100, 2)\n(100,)\n\n"
     ]
    }
   ],
   "source": [
    "j = 0\n",
    "for i in [X_delivery_train, y_delivery_train, X_delivery_test, y_delivery_test, X_student_train, y_student_train, X_student_test, y_student_test]:\n",
    "    print(i.shape)\n",
    "    j += 1\n",
    "    if j % 2 == 0:\n",
    "        print(\"\")"
   ]
  },
  {
   "cell_type": "code",
   "execution_count": 13,
   "metadata": {},
   "outputs": [],
   "source": [
    "def distance_calc(train_inst, test_inst):\n",
    "    distance = [(i-j)**2 for i,j in zip(test_inst, train_inst)]\n",
    "    return sum(distance)\n",
    "\n",
    "def knn_predict(X_train, y_train, X_test, k=5):\n",
    "    y_pred = []\n",
    "    for i in range(0, len(X_test)):\n",
    "\n",
    "        # grab a test instance from the X_test data\n",
    "        test_instance = X_test.iloc[i]\n",
    "        dist = X_train.apply(distance_calc, test_inst = test_instance, axis = 1)\n",
    "\n",
    "        # calculate the distance between the test_instance and the rest of the possible entries\n",
    "        dist_df = pd.DataFrame({\"Distance\": dist, \"Y_train\": y_train})\n",
    "        dist_df.sort_values(by=\"Distance\", axis = 0, inplace= True)\n",
    "\n",
    "        pred_val = np.mean(dist_df[\"Y_train\"][:k])\n",
    "        y_pred.append(pred_val)\n",
    "    return y_pred"
   ]
  },
  {
   "cell_type": "code",
   "execution_count": 14,
   "metadata": {},
   "outputs": [],
   "source": [
    "y_delivery_train_pred = knn_predict(X_delivery_train, y_delivery_train, X_delivery_train)\n",
    "y_delivery_test_pred = knn_predict(X_delivery_train, y_delivery_train, X_delivery_test)"
   ]
  },
  {
   "cell_type": "code",
   "execution_count": 15,
   "metadata": {},
   "outputs": [
    {
     "output_type": "execute_result",
     "data": {
      "text/plain": [
       "1.0977544554455447"
      ]
     },
     "metadata": {},
     "execution_count": 15
    }
   ],
   "source": [
    "def mse_pred(y, y_pred):\n",
    "    distance = [(i-j)**2 for i,j in zip(y, y_pred)]\n",
    "    return sum(distance)/len(distance)\n",
    "mse_pred(y_delivery_test, y_delivery_test_pred)"
   ]
  },
  {
   "cell_type": "code",
   "execution_count": 16,
   "metadata": {},
   "outputs": [
    {
     "output_type": "execute_result",
     "data": {
      "text/plain": [
       "0.5889105527638189"
      ]
     },
     "metadata": {},
     "execution_count": 16
    }
   ],
   "source": [
    "mse_pred(y_delivery_train, y_delivery_train_pred)"
   ]
  },
  {
   "cell_type": "code",
   "execution_count": 17,
   "metadata": {},
   "outputs": [
    {
     "output_type": "display_data",
     "data": {
      "text/plain": "<Figure size 432x288 with 1 Axes>",
      "image/svg+xml": "<?xml version=\"1.0\" encoding=\"utf-8\" standalone=\"no\"?>\r\n<!DOCTYPE svg PUBLIC \"-//W3C//DTD SVG 1.1//EN\"\r\n  \"http://www.w3.org/Graphics/SVG/1.1/DTD/svg11.dtd\">\r\n<!-- Created with matplotlib (https://matplotlib.org/) -->\r\n<svg height=\"248.518125pt\" version=\"1.1\" viewBox=\"0 0 372.103125 248.518125\" width=\"372.103125pt\" xmlns=\"http://www.w3.org/2000/svg\" xmlns:xlink=\"http://www.w3.org/1999/xlink\">\r\n <metadata>\r\n  <rdf:RDF xmlns:cc=\"http://creativecommons.org/ns#\" xmlns:dc=\"http://purl.org/dc/elements/1.1/\" xmlns:rdf=\"http://www.w3.org/1999/02/22-rdf-syntax-ns#\">\r\n   <cc:Work>\r\n    <dc:type rdf:resource=\"http://purl.org/dc/dcmitype/StillImage\"/>\r\n    <dc:date>2021-02-16T01:21:06.069815</dc:date>\r\n    <dc:format>image/svg+xml</dc:format>\r\n    <dc:creator>\r\n     <cc:Agent>\r\n      <dc:title>Matplotlib v3.3.2, https://matplotlib.org/</dc:title>\r\n     </cc:Agent>\r\n    </dc:creator>\r\n   </cc:Work>\r\n  </rdf:RDF>\r\n </metadata>\r\n <defs>\r\n  <style type=\"text/css\">*{stroke-linecap:butt;stroke-linejoin:round;}</style>\r\n </defs>\r\n <g id=\"figure_1\">\r\n  <g id=\"patch_1\">\r\n   <path d=\"M 0 248.518125 \r\nL 372.103125 248.518125 \r\nL 372.103125 0 \r\nL 0 0 \r\nz\r\n\" style=\"fill:none;\"/>\r\n  </g>\r\n  <g id=\"axes_1\">\r\n   <g id=\"patch_2\">\r\n    <path d=\"M 30.103125 224.64 \r\nL 364.903125 224.64 \r\nL 364.903125 7.2 \r\nL 30.103125 7.2 \r\nz\r\n\" style=\"fill:#ffffff;\"/>\r\n   </g>\r\n   <g id=\"matplotlib.axis_1\">\r\n    <g id=\"xtick_1\">\r\n     <g id=\"line2d_1\">\r\n      <defs>\r\n       <path d=\"M 0 0 \r\nL 0 3.5 \r\n\" id=\"m06d567628f\" style=\"stroke:#000000;stroke-width:0.8;\"/>\r\n      </defs>\r\n      <g>\r\n       <use style=\"stroke:#000000;stroke-width:0.8;\" x=\"39.109804\" xlink:href=\"#m06d567628f\" y=\"224.64\"/>\r\n      </g>\r\n     </g>\r\n     <g id=\"text_1\">\r\n      <!-- 0 -->\r\n      <g transform=\"translate(35.928554 239.238437)scale(0.1 -0.1)\">\r\n       <defs>\r\n        <path d=\"M 31.78125 66.40625 \r\nQ 24.171875 66.40625 20.328125 58.90625 \r\nQ 16.5 51.421875 16.5 36.375 \r\nQ 16.5 21.390625 20.328125 13.890625 \r\nQ 24.171875 6.390625 31.78125 6.390625 \r\nQ 39.453125 6.390625 43.28125 13.890625 \r\nQ 47.125 21.390625 47.125 36.375 \r\nQ 47.125 51.421875 43.28125 58.90625 \r\nQ 39.453125 66.40625 31.78125 66.40625 \r\nz\r\nM 31.78125 74.21875 \r\nQ 44.046875 74.21875 50.515625 64.515625 \r\nQ 56.984375 54.828125 56.984375 36.375 \r\nQ 56.984375 17.96875 50.515625 8.265625 \r\nQ 44.046875 -1.421875 31.78125 -1.421875 \r\nQ 19.53125 -1.421875 13.0625 8.265625 \r\nQ 6.59375 17.96875 6.59375 36.375 \r\nQ 6.59375 54.828125 13.0625 64.515625 \r\nQ 19.53125 74.21875 31.78125 74.21875 \r\nz\r\n\" id=\"DejaVuSans-48\"/>\r\n       </defs>\r\n       <use xlink:href=\"#DejaVuSans-48\"/>\r\n      </g>\r\n     </g>\r\n    </g>\r\n    <g id=\"xtick_2\">\r\n     <g id=\"line2d_2\">\r\n      <g>\r\n       <use style=\"stroke:#000000;stroke-width:0.8;\" x=\"101.224832\" xlink:href=\"#m06d567628f\" y=\"224.64\"/>\r\n      </g>\r\n     </g>\r\n     <g id=\"text_2\">\r\n      <!-- 10 -->\r\n      <g transform=\"translate(94.862332 239.238437)scale(0.1 -0.1)\">\r\n       <defs>\r\n        <path d=\"M 12.40625 8.296875 \r\nL 28.515625 8.296875 \r\nL 28.515625 63.921875 \r\nL 10.984375 60.40625 \r\nL 10.984375 69.390625 \r\nL 28.421875 72.90625 \r\nL 38.28125 72.90625 \r\nL 38.28125 8.296875 \r\nL 54.390625 8.296875 \r\nL 54.390625 0 \r\nL 12.40625 0 \r\nz\r\n\" id=\"DejaVuSans-49\"/>\r\n       </defs>\r\n       <use xlink:href=\"#DejaVuSans-49\"/>\r\n       <use x=\"63.623047\" xlink:href=\"#DejaVuSans-48\"/>\r\n      </g>\r\n     </g>\r\n    </g>\r\n    <g id=\"xtick_3\">\r\n     <g id=\"line2d_3\">\r\n      <g>\r\n       <use style=\"stroke:#000000;stroke-width:0.8;\" x=\"163.33986\" xlink:href=\"#m06d567628f\" y=\"224.64\"/>\r\n      </g>\r\n     </g>\r\n     <g id=\"text_3\">\r\n      <!-- 20 -->\r\n      <g transform=\"translate(156.97736 239.238437)scale(0.1 -0.1)\">\r\n       <defs>\r\n        <path d=\"M 19.1875 8.296875 \r\nL 53.609375 8.296875 \r\nL 53.609375 0 \r\nL 7.328125 0 \r\nL 7.328125 8.296875 \r\nQ 12.9375 14.109375 22.625 23.890625 \r\nQ 32.328125 33.6875 34.8125 36.53125 \r\nQ 39.546875 41.84375 41.421875 45.53125 \r\nQ 43.3125 49.21875 43.3125 52.78125 \r\nQ 43.3125 58.59375 39.234375 62.25 \r\nQ 35.15625 65.921875 28.609375 65.921875 \r\nQ 23.96875 65.921875 18.8125 64.3125 \r\nQ 13.671875 62.703125 7.8125 59.421875 \r\nL 7.8125 69.390625 \r\nQ 13.765625 71.78125 18.9375 73 \r\nQ 24.125 74.21875 28.421875 74.21875 \r\nQ 39.75 74.21875 46.484375 68.546875 \r\nQ 53.21875 62.890625 53.21875 53.421875 \r\nQ 53.21875 48.921875 51.53125 44.890625 \r\nQ 49.859375 40.875 45.40625 35.40625 \r\nQ 44.1875 33.984375 37.640625 27.21875 \r\nQ 31.109375 20.453125 19.1875 8.296875 \r\nz\r\n\" id=\"DejaVuSans-50\"/>\r\n       </defs>\r\n       <use xlink:href=\"#DejaVuSans-50\"/>\r\n       <use x=\"63.623047\" xlink:href=\"#DejaVuSans-48\"/>\r\n      </g>\r\n     </g>\r\n    </g>\r\n    <g id=\"xtick_4\">\r\n     <g id=\"line2d_4\">\r\n      <g>\r\n       <use style=\"stroke:#000000;stroke-width:0.8;\" x=\"225.454888\" xlink:href=\"#m06d567628f\" y=\"224.64\"/>\r\n      </g>\r\n     </g>\r\n     <g id=\"text_4\">\r\n      <!-- 30 -->\r\n      <g transform=\"translate(219.092388 239.238437)scale(0.1 -0.1)\">\r\n       <defs>\r\n        <path d=\"M 40.578125 39.3125 \r\nQ 47.65625 37.796875 51.625 33 \r\nQ 55.609375 28.21875 55.609375 21.1875 \r\nQ 55.609375 10.40625 48.1875 4.484375 \r\nQ 40.765625 -1.421875 27.09375 -1.421875 \r\nQ 22.515625 -1.421875 17.65625 -0.515625 \r\nQ 12.796875 0.390625 7.625 2.203125 \r\nL 7.625 11.71875 \r\nQ 11.71875 9.328125 16.59375 8.109375 \r\nQ 21.484375 6.890625 26.8125 6.890625 \r\nQ 36.078125 6.890625 40.9375 10.546875 \r\nQ 45.796875 14.203125 45.796875 21.1875 \r\nQ 45.796875 27.640625 41.28125 31.265625 \r\nQ 36.765625 34.90625 28.71875 34.90625 \r\nL 20.21875 34.90625 \r\nL 20.21875 43.015625 \r\nL 29.109375 43.015625 \r\nQ 36.375 43.015625 40.234375 45.921875 \r\nQ 44.09375 48.828125 44.09375 54.296875 \r\nQ 44.09375 59.90625 40.109375 62.90625 \r\nQ 36.140625 65.921875 28.71875 65.921875 \r\nQ 24.65625 65.921875 20.015625 65.03125 \r\nQ 15.375 64.15625 9.8125 62.3125 \r\nL 9.8125 71.09375 \r\nQ 15.4375 72.65625 20.34375 73.4375 \r\nQ 25.25 74.21875 29.59375 74.21875 \r\nQ 40.828125 74.21875 47.359375 69.109375 \r\nQ 53.90625 64.015625 53.90625 55.328125 \r\nQ 53.90625 49.265625 50.4375 45.09375 \r\nQ 46.96875 40.921875 40.578125 39.3125 \r\nz\r\n\" id=\"DejaVuSans-51\"/>\r\n       </defs>\r\n       <use xlink:href=\"#DejaVuSans-51\"/>\r\n       <use x=\"63.623047\" xlink:href=\"#DejaVuSans-48\"/>\r\n      </g>\r\n     </g>\r\n    </g>\r\n    <g id=\"xtick_5\">\r\n     <g id=\"line2d_5\">\r\n      <g>\r\n       <use style=\"stroke:#000000;stroke-width:0.8;\" x=\"287.569915\" xlink:href=\"#m06d567628f\" y=\"224.64\"/>\r\n      </g>\r\n     </g>\r\n     <g id=\"text_5\">\r\n      <!-- 40 -->\r\n      <g transform=\"translate(281.207415 239.238437)scale(0.1 -0.1)\">\r\n       <defs>\r\n        <path d=\"M 37.796875 64.3125 \r\nL 12.890625 25.390625 \r\nL 37.796875 25.390625 \r\nz\r\nM 35.203125 72.90625 \r\nL 47.609375 72.90625 \r\nL 47.609375 25.390625 \r\nL 58.015625 25.390625 \r\nL 58.015625 17.1875 \r\nL 47.609375 17.1875 \r\nL 47.609375 0 \r\nL 37.796875 0 \r\nL 37.796875 17.1875 \r\nL 4.890625 17.1875 \r\nL 4.890625 26.703125 \r\nz\r\n\" id=\"DejaVuSans-52\"/>\r\n       </defs>\r\n       <use xlink:href=\"#DejaVuSans-52\"/>\r\n       <use x=\"63.623047\" xlink:href=\"#DejaVuSans-48\"/>\r\n      </g>\r\n     </g>\r\n    </g>\r\n    <g id=\"xtick_6\">\r\n     <g id=\"line2d_6\">\r\n      <g>\r\n       <use style=\"stroke:#000000;stroke-width:0.8;\" x=\"349.684943\" xlink:href=\"#m06d567628f\" y=\"224.64\"/>\r\n      </g>\r\n     </g>\r\n     <g id=\"text_6\">\r\n      <!-- 50 -->\r\n      <g transform=\"translate(343.322443 239.238437)scale(0.1 -0.1)\">\r\n       <defs>\r\n        <path d=\"M 10.796875 72.90625 \r\nL 49.515625 72.90625 \r\nL 49.515625 64.59375 \r\nL 19.828125 64.59375 \r\nL 19.828125 46.734375 \r\nQ 21.96875 47.46875 24.109375 47.828125 \r\nQ 26.265625 48.1875 28.421875 48.1875 \r\nQ 40.625 48.1875 47.75 41.5 \r\nQ 54.890625 34.8125 54.890625 23.390625 \r\nQ 54.890625 11.625 47.5625 5.09375 \r\nQ 40.234375 -1.421875 26.90625 -1.421875 \r\nQ 22.3125 -1.421875 17.546875 -0.640625 \r\nQ 12.796875 0.140625 7.71875 1.703125 \r\nL 7.71875 11.625 \r\nQ 12.109375 9.234375 16.796875 8.0625 \r\nQ 21.484375 6.890625 26.703125 6.890625 \r\nQ 35.15625 6.890625 40.078125 11.328125 \r\nQ 45.015625 15.765625 45.015625 23.390625 \r\nQ 45.015625 31 40.078125 35.4375 \r\nQ 35.15625 39.890625 26.703125 39.890625 \r\nQ 22.75 39.890625 18.8125 39.015625 \r\nQ 14.890625 38.140625 10.796875 36.28125 \r\nz\r\n\" id=\"DejaVuSans-53\"/>\r\n       </defs>\r\n       <use xlink:href=\"#DejaVuSans-53\"/>\r\n       <use x=\"63.623047\" xlink:href=\"#DejaVuSans-48\"/>\r\n      </g>\r\n     </g>\r\n    </g>\r\n   </g>\r\n   <g id=\"matplotlib.axis_2\">\r\n    <g id=\"ytick_1\">\r\n     <g id=\"line2d_7\">\r\n      <defs>\r\n       <path d=\"M 0 0 \r\nL -3.5 0 \r\n\" id=\"m9937d925f5\" style=\"stroke:#000000;stroke-width:0.8;\"/>\r\n      </defs>\r\n      <g>\r\n       <use style=\"stroke:#000000;stroke-width:0.8;\" x=\"30.103125\" xlink:href=\"#m9937d925f5\" y=\"201.178259\"/>\r\n      </g>\r\n     </g>\r\n     <g id=\"text_7\">\r\n      <!-- 0.6 -->\r\n      <g transform=\"translate(7.2 204.977478)scale(0.1 -0.1)\">\r\n       <defs>\r\n        <path d=\"M 10.6875 12.40625 \r\nL 21 12.40625 \r\nL 21 0 \r\nL 10.6875 0 \r\nz\r\n\" id=\"DejaVuSans-46\"/>\r\n        <path d=\"M 33.015625 40.375 \r\nQ 26.375 40.375 22.484375 35.828125 \r\nQ 18.609375 31.296875 18.609375 23.390625 \r\nQ 18.609375 15.53125 22.484375 10.953125 \r\nQ 26.375 6.390625 33.015625 6.390625 \r\nQ 39.65625 6.390625 43.53125 10.953125 \r\nQ 47.40625 15.53125 47.40625 23.390625 \r\nQ 47.40625 31.296875 43.53125 35.828125 \r\nQ 39.65625 40.375 33.015625 40.375 \r\nz\r\nM 52.59375 71.296875 \r\nL 52.59375 62.3125 \r\nQ 48.875 64.0625 45.09375 64.984375 \r\nQ 41.3125 65.921875 37.59375 65.921875 \r\nQ 27.828125 65.921875 22.671875 59.328125 \r\nQ 17.53125 52.734375 16.796875 39.40625 \r\nQ 19.671875 43.65625 24.015625 45.921875 \r\nQ 28.375 48.1875 33.59375 48.1875 \r\nQ 44.578125 48.1875 50.953125 41.515625 \r\nQ 57.328125 34.859375 57.328125 23.390625 \r\nQ 57.328125 12.15625 50.6875 5.359375 \r\nQ 44.046875 -1.421875 33.015625 -1.421875 \r\nQ 20.359375 -1.421875 13.671875 8.265625 \r\nQ 6.984375 17.96875 6.984375 36.375 \r\nQ 6.984375 53.65625 15.1875 63.9375 \r\nQ 23.390625 74.21875 37.203125 74.21875 \r\nQ 40.921875 74.21875 44.703125 73.484375 \r\nQ 48.484375 72.75 52.59375 71.296875 \r\nz\r\n\" id=\"DejaVuSans-54\"/>\r\n       </defs>\r\n       <use xlink:href=\"#DejaVuSans-48\"/>\r\n       <use x=\"63.623047\" xlink:href=\"#DejaVuSans-46\"/>\r\n       <use x=\"95.410156\" xlink:href=\"#DejaVuSans-54\"/>\r\n      </g>\r\n     </g>\r\n    </g>\r\n    <g id=\"ytick_2\">\r\n     <g id=\"line2d_8\">\r\n      <g>\r\n       <use style=\"stroke:#000000;stroke-width:0.8;\" x=\"30.103125\" xlink:href=\"#m9937d925f5\" y=\"176.454403\"/>\r\n      </g>\r\n     </g>\r\n     <g id=\"text_8\">\r\n      <!-- 0.8 -->\r\n      <g transform=\"translate(7.2 180.253622)scale(0.1 -0.1)\">\r\n       <defs>\r\n        <path d=\"M 31.78125 34.625 \r\nQ 24.75 34.625 20.71875 30.859375 \r\nQ 16.703125 27.09375 16.703125 20.515625 \r\nQ 16.703125 13.921875 20.71875 10.15625 \r\nQ 24.75 6.390625 31.78125 6.390625 \r\nQ 38.8125 6.390625 42.859375 10.171875 \r\nQ 46.921875 13.96875 46.921875 20.515625 \r\nQ 46.921875 27.09375 42.890625 30.859375 \r\nQ 38.875 34.625 31.78125 34.625 \r\nz\r\nM 21.921875 38.8125 \r\nQ 15.578125 40.375 12.03125 44.71875 \r\nQ 8.5 49.078125 8.5 55.328125 \r\nQ 8.5 64.0625 14.71875 69.140625 \r\nQ 20.953125 74.21875 31.78125 74.21875 \r\nQ 42.671875 74.21875 48.875 69.140625 \r\nQ 55.078125 64.0625 55.078125 55.328125 \r\nQ 55.078125 49.078125 51.53125 44.71875 \r\nQ 48 40.375 41.703125 38.8125 \r\nQ 48.828125 37.15625 52.796875 32.3125 \r\nQ 56.78125 27.484375 56.78125 20.515625 \r\nQ 56.78125 9.90625 50.3125 4.234375 \r\nQ 43.84375 -1.421875 31.78125 -1.421875 \r\nQ 19.734375 -1.421875 13.25 4.234375 \r\nQ 6.78125 9.90625 6.78125 20.515625 \r\nQ 6.78125 27.484375 10.78125 32.3125 \r\nQ 14.796875 37.15625 21.921875 38.8125 \r\nz\r\nM 18.3125 54.390625 \r\nQ 18.3125 48.734375 21.84375 45.5625 \r\nQ 25.390625 42.390625 31.78125 42.390625 \r\nQ 38.140625 42.390625 41.71875 45.5625 \r\nQ 45.3125 48.734375 45.3125 54.390625 \r\nQ 45.3125 60.0625 41.71875 63.234375 \r\nQ 38.140625 66.40625 31.78125 66.40625 \r\nQ 25.390625 66.40625 21.84375 63.234375 \r\nQ 18.3125 60.0625 18.3125 54.390625 \r\nz\r\n\" id=\"DejaVuSans-56\"/>\r\n       </defs>\r\n       <use xlink:href=\"#DejaVuSans-48\"/>\r\n       <use x=\"63.623047\" xlink:href=\"#DejaVuSans-46\"/>\r\n       <use x=\"95.410156\" xlink:href=\"#DejaVuSans-56\"/>\r\n      </g>\r\n     </g>\r\n    </g>\r\n    <g id=\"ytick_3\">\r\n     <g id=\"line2d_9\">\r\n      <g>\r\n       <use style=\"stroke:#000000;stroke-width:0.8;\" x=\"30.103125\" xlink:href=\"#m9937d925f5\" y=\"151.730546\"/>\r\n      </g>\r\n     </g>\r\n     <g id=\"text_9\">\r\n      <!-- 1.0 -->\r\n      <g transform=\"translate(7.2 155.529765)scale(0.1 -0.1)\">\r\n       <use xlink:href=\"#DejaVuSans-49\"/>\r\n       <use x=\"63.623047\" xlink:href=\"#DejaVuSans-46\"/>\r\n       <use x=\"95.410156\" xlink:href=\"#DejaVuSans-48\"/>\r\n      </g>\r\n     </g>\r\n    </g>\r\n    <g id=\"ytick_4\">\r\n     <g id=\"line2d_10\">\r\n      <g>\r\n       <use style=\"stroke:#000000;stroke-width:0.8;\" x=\"30.103125\" xlink:href=\"#m9937d925f5\" y=\"127.00669\"/>\r\n      </g>\r\n     </g>\r\n     <g id=\"text_10\">\r\n      <!-- 1.2 -->\r\n      <g transform=\"translate(7.2 130.805909)scale(0.1 -0.1)\">\r\n       <use xlink:href=\"#DejaVuSans-49\"/>\r\n       <use x=\"63.623047\" xlink:href=\"#DejaVuSans-46\"/>\r\n       <use x=\"95.410156\" xlink:href=\"#DejaVuSans-50\"/>\r\n      </g>\r\n     </g>\r\n    </g>\r\n    <g id=\"ytick_5\">\r\n     <g id=\"line2d_11\">\r\n      <g>\r\n       <use style=\"stroke:#000000;stroke-width:0.8;\" x=\"30.103125\" xlink:href=\"#m9937d925f5\" y=\"102.282834\"/>\r\n      </g>\r\n     </g>\r\n     <g id=\"text_11\">\r\n      <!-- 1.4 -->\r\n      <g transform=\"translate(7.2 106.082052)scale(0.1 -0.1)\">\r\n       <use xlink:href=\"#DejaVuSans-49\"/>\r\n       <use x=\"63.623047\" xlink:href=\"#DejaVuSans-46\"/>\r\n       <use x=\"95.410156\" xlink:href=\"#DejaVuSans-52\"/>\r\n      </g>\r\n     </g>\r\n    </g>\r\n    <g id=\"ytick_6\">\r\n     <g id=\"line2d_12\">\r\n      <g>\r\n       <use style=\"stroke:#000000;stroke-width:0.8;\" x=\"30.103125\" xlink:href=\"#m9937d925f5\" y=\"77.558977\"/>\r\n      </g>\r\n     </g>\r\n     <g id=\"text_12\">\r\n      <!-- 1.6 -->\r\n      <g transform=\"translate(7.2 81.358196)scale(0.1 -0.1)\">\r\n       <use xlink:href=\"#DejaVuSans-49\"/>\r\n       <use x=\"63.623047\" xlink:href=\"#DejaVuSans-46\"/>\r\n       <use x=\"95.410156\" xlink:href=\"#DejaVuSans-54\"/>\r\n      </g>\r\n     </g>\r\n    </g>\r\n    <g id=\"ytick_7\">\r\n     <g id=\"line2d_13\">\r\n      <g>\r\n       <use style=\"stroke:#000000;stroke-width:0.8;\" x=\"30.103125\" xlink:href=\"#m9937d925f5\" y=\"52.835121\"/>\r\n      </g>\r\n     </g>\r\n     <g id=\"text_13\">\r\n      <!-- 1.8 -->\r\n      <g transform=\"translate(7.2 56.63434)scale(0.1 -0.1)\">\r\n       <use xlink:href=\"#DejaVuSans-49\"/>\r\n       <use x=\"63.623047\" xlink:href=\"#DejaVuSans-46\"/>\r\n       <use x=\"95.410156\" xlink:href=\"#DejaVuSans-56\"/>\r\n      </g>\r\n     </g>\r\n    </g>\r\n    <g id=\"ytick_8\">\r\n     <g id=\"line2d_14\">\r\n      <g>\r\n       <use style=\"stroke:#000000;stroke-width:0.8;\" x=\"30.103125\" xlink:href=\"#m9937d925f5\" y=\"28.111265\"/>\r\n      </g>\r\n     </g>\r\n     <g id=\"text_14\">\r\n      <!-- 2.0 -->\r\n      <g transform=\"translate(7.2 31.910483)scale(0.1 -0.1)\">\r\n       <use xlink:href=\"#DejaVuSans-50\"/>\r\n       <use x=\"63.623047\" xlink:href=\"#DejaVuSans-46\"/>\r\n       <use x=\"95.410156\" xlink:href=\"#DejaVuSans-48\"/>\r\n      </g>\r\n     </g>\r\n    </g>\r\n   </g>\r\n   <g id=\"line2d_15\">\r\n    <path clip-path=\"url(#pfa812da3fa)\" d=\"M 45.321307 166.56486 \r\nL 51.53281 208.464964 \r\nL 57.744312 214.756364 \r\nL 63.955815 208.07283 \r\nL 70.167318 202.549129 \r\nL 76.378821 192.794787 \r\nL 82.590324 182.449006 \r\nL 88.801826 169.836947 \r\nL 95.013329 159.971832 \r\nL 101.224832 158.730752 \r\nL 107.436335 153.056685 \r\nL 113.647837 143.920867 \r\nL 119.85934 138.364365 \r\nL 126.070843 132.123687 \r\nL 132.282346 126.50001 \r\nL 138.493849 121.424337 \r\nL 144.705351 115.100475 \r\nL 150.916854 111.310304 \r\nL 157.128357 107.692922 \r\nL 163.33986 104.744674 \r\nL 169.551362 106.360302 \r\nL 175.762865 104.643518 \r\nL 181.974368 106.437915 \r\nL 188.185871 109.211257 \r\nL 194.397374 112.381687 \r\nL 200.608876 113.409038 \r\nL 206.820379 114.436868 \r\nL 213.031882 114.866247 \r\nL 219.243385 113.390805 \r\nL 225.454888 110.683782 \r\nL 231.66639 109.732453 \r\nL 237.877893 107.932093 \r\nL 244.089396 109.398402 \r\nL 250.300899 109.512867 \r\nL 256.512401 107.812925 \r\nL 262.723904 107.392904 \r\nL 268.935407 104.845972 \r\nL 275.14691 101.900059 \r\nL 281.358413 100.154981 \r\nL 287.569915 99.60108 \r\nL 293.781418 99.980693 \r\nL 299.992921 99.945179 \r\nL 306.204424 100.79691 \r\nL 312.415926 99.454482 \r\nL 318.627429 97.170847 \r\nL 324.838932 94.721476 \r\nL 331.050435 91.302081 \r\nL 337.261938 86.414175 \r\nL 343.47344 82.15187 \r\nL 349.684943 77.927186 \r\n\" style=\"fill:none;stroke:#1f77b4;stroke-linecap:square;stroke-width:1.5;\"/>\r\n   </g>\r\n   <g id=\"line2d_16\">\r\n    <path clip-path=\"url(#pfa812da3fa)\" d=\"M 45.321307 110.838267 \r\nL 51.53281 146.467547 \r\nL 57.744312 148.933133 \r\nL 63.955815 141.001831 \r\nL 70.167318 139.646211 \r\nL 76.378821 134.317431 \r\nL 82.590324 124.508077 \r\nL 88.801826 110.001198 \r\nL 95.013329 96.454701 \r\nL 101.224832 92.813719 \r\nL 107.436335 90.747023 \r\nL 113.647837 76.630473 \r\nL 119.85934 75.269895 \r\nL 126.070843 72.787058 \r\nL 132.282346 78.429126 \r\nL 138.493849 79.974181 \r\nL 144.705351 84.253663 \r\nL 150.916854 80.202376 \r\nL 157.128357 79.631764 \r\nL 163.33986 77.635566 \r\nL 169.551362 76.510707 \r\nL 175.762865 73.808193 \r\nL 181.974368 74.734167 \r\nL 188.185871 74.695139 \r\nL 194.397374 76.089274 \r\nL 200.608876 75.442697 \r\nL 206.820379 75.264476 \r\nL 213.031882 72.012767 \r\nL 219.243385 70.803847 \r\nL 225.454888 66.82798 \r\nL 231.66639 64.853056 \r\nL 237.877893 61.347011 \r\nL 244.089396 59.478883 \r\nL 250.300899 59.130211 \r\nL 256.512401 56.886057 \r\nL 262.723904 55.281422 \r\nL 268.935407 54.228497 \r\nL 275.14691 50.781405 \r\nL 281.358413 48.213711 \r\nL 287.569915 46.990469 \r\nL 293.781418 47.863795 \r\nL 299.992921 47.324008 \r\nL 306.204424 46.93237 \r\nL 312.415926 44.470671 \r\nL 318.627429 41.223467 \r\nL 324.838932 37.688913 \r\nL 331.050435 31.790327 \r\nL 337.261938 27.310144 \r\nL 343.47344 22.945947 \r\nL 349.684943 17.083636 \r\n\" style=\"fill:none;stroke:#ff7f0e;stroke-linecap:square;stroke-width:1.5;\"/>\r\n   </g>\r\n   <g id=\"patch_3\">\r\n    <path d=\"M 30.103125 224.64 \r\nL 30.103125 7.2 \r\n\" style=\"fill:none;stroke:#000000;stroke-linecap:square;stroke-linejoin:miter;stroke-width:0.8;\"/>\r\n   </g>\r\n   <g id=\"patch_4\">\r\n    <path d=\"M 364.903125 224.64 \r\nL 364.903125 7.2 \r\n\" style=\"fill:none;stroke:#000000;stroke-linecap:square;stroke-linejoin:miter;stroke-width:0.8;\"/>\r\n   </g>\r\n   <g id=\"patch_5\">\r\n    <path d=\"M 30.103125 224.64 \r\nL 364.903125 224.64 \r\n\" style=\"fill:none;stroke:#000000;stroke-linecap:square;stroke-linejoin:miter;stroke-width:0.8;\"/>\r\n   </g>\r\n   <g id=\"patch_6\">\r\n    <path d=\"M 30.103125 7.2 \r\nL 364.903125 7.2 \r\n\" style=\"fill:none;stroke:#000000;stroke-linecap:square;stroke-linejoin:miter;stroke-width:0.8;\"/>\r\n   </g>\r\n  </g>\r\n </g>\r\n <defs>\r\n  <clipPath id=\"pfa812da3fa\">\r\n   <rect height=\"217.44\" width=\"334.8\" x=\"30.103125\" y=\"7.2\"/>\r\n  </clipPath>\r\n </defs>\r\n</svg>\r\n",
      "image/png": "[encoded data removed]"
     },
     "metadata": {
      "needs_background": "light"
     }
    }
   ],
   "source": [
    "k_vals = [k for k in range(1,51)]\n",
    "delivery_train_mse = []\n",
    "delivery_test_mse = []\n",
    "\n",
    "for k_select in k_vals: \n",
    "    delivery_train_mse.append(mse_pred(knn_predict(X_delivery_train, y_delivery_train, X_delivery_train, k = k_select),y_delivery_train))\n",
    "    delivery_test_mse.append(mse_pred(knn_predict(X_delivery_train, y_delivery_train, X_delivery_test, k = k_select),y_delivery_test))\n",
    "\n",
    "    \n",
    "    #print(\"\")\n",
    "    #print(f\"k: {k_select}\\nTrain Set Accuracy: {}\\nTest Set Accuracy: {mse_pred(y_delivery_test, y_delivery_test_pred)}\")\n",
    "\n",
    "plt.plot(k_vals, delivery_train_mse, label=\"train_mse\")\n",
    "plt.plot(k_vals, delivery_test_mse, label=\"test_mse\")\n",
    "plt.show()"
   ]
  },
  {
   "cell_type": "code",
   "execution_count": 26,
   "metadata": {},
   "outputs": [
    {
     "output_type": "execute_result",
     "data": {
      "text/plain": [
       "1.1209346534653466"
      ]
     },
     "metadata": {},
     "execution_count": 26
    }
   ],
   "source": [
    "model = KNeighborsRegressor()\n",
    "model.fit(X_delivery_train, y_delivery_train)\n",
    "y_pred = model.predict(X_delivery_test)\n",
    "mean_squared_error(y_delivery_test, y_pred)"
   ]
  },
  {
   "cell_type": "code",
   "execution_count": 35,
   "metadata": {},
   "outputs": [
    {
     "output_type": "execute_result",
     "data": {
      "text/plain": [
       "1.0048316831683173"
      ]
     },
     "metadata": {},
     "execution_count": 35
    }
   ],
   "source": [
    "pipe = Pipeline([('scaler', StandardScaler()), ('KNeighbors', KNeighborsRegressor())])\n",
    "pipe.fit(X_delivery_train, y_delivery_train)\n",
    "y_pred = pipe.predict(X_delivery_test)\n",
    "mean_squared_error(y_delivery_test, y_pred)"
   ]
  },
  {
   "cell_type": "code",
   "execution_count": 37,
   "metadata": {},
   "outputs": [
    {
     "output_type": "execute_result",
     "data": {
      "text/plain": [
       "0.9543512380671697"
      ]
     },
     "metadata": {},
     "execution_count": 37
    }
   ],
   "source": [
    "pipe = Pipeline([('scaler', StandardScaler()), ('RandomForest', RandomForestRegressor())])\n",
    "pipe.fit(X_delivery_train, y_delivery_train)\n",
    "y_pred = pipe.predict(X_delivery_test)\n",
    "mean_squared_error(y_delivery_test, y_pred)"
   ]
  },
  {
   "cell_type": "code",
   "execution_count": 39,
   "metadata": {},
   "outputs": [],
   "source": [
    "scaler = StandardScaler()\n",
    "\n",
    "student_train[[\"GPA\", \"Age\"]] = scaler.fit_transform(student_train[[\"GPA\", \"Age\"]]) \n",
    "student_test[[\"GPA\", \"Age\"]] = scaler.fit_transform(student_test[[\"GPA\", \"Age\"]])\n",
    "\n",
    "X_student_train = student_train[[\"GPA\", \"Age\"]]\n",
    "y_student_train = student_train[\"Dropped\"]\n",
    "\n",
    "X_student_test = student_test[[\"GPA\", \"Age\"]]\n",
    "y_student_test = student_test[\"Dropped\"]"
   ]
  },
  {
   "cell_type": "code",
   "execution_count": 72,
   "metadata": {},
   "outputs": [],
   "source": [
    "def distance_calc(train_inst, test_inst):\n",
    "    distance = [(i-j)**2 for i,j in zip(test_inst, train_inst)]\n",
    "    return sum(distance)\n",
    "\n",
    "def knn_classify(X_train, y_train, X_test, k=5):\n",
    "    y_pred = []\n",
    "    for i in range(0, len(X_test)):\n",
    "\n",
    "        # grab a test instance from the X_test data\n",
    "        test_instance = X_test.iloc[i]\n",
    "        dist = X_train.apply(distance_calc, test_inst = test_instance, axis = 1)\n",
    "\n",
    "        # calculate the distance between the test_instance and the rest of the possible entries\n",
    "        dist_df = pd.DataFrame({\"Distance\": dist, \"Y_train\": y_train})\n",
    "        dist_df.sort_values(by=\"Distance\", axis = 0, inplace= True)\n",
    "\n",
    "        pred_val = dist_df[\"Y_train\"][:k].value_counts().index[0]\n",
    "        y_pred.append(pred_val)\n",
    "    return y_pred"
   ]
  },
  {
   "cell_type": "code",
   "execution_count": 73,
   "metadata": {},
   "outputs": [],
   "source": [
    "y_student_test_pred = knn_classify(X_student_train, y_student_train, X_student_test)"
   ]
  },
  {
   "cell_type": "code",
   "execution_count": 74,
   "metadata": {},
   "outputs": [
    {
     "output_type": "execute_result",
     "data": {
      "text/plain": [
       "0.72"
      ]
     },
     "metadata": {},
     "execution_count": 74
    }
   ],
   "source": [
    "def overall_accuracy(y, y_pred):\n",
    "    return(np.mean(y==y_pred))\n",
    "overall_accuracy(y_student_test, y_student_test_pred)"
   ]
  },
  {
   "cell_type": "code",
   "execution_count": 77,
   "metadata": {},
   "outputs": [
    {
     "output_type": "execute_result",
     "data": {
      "text/plain": [
       "0.72"
      ]
     },
     "metadata": {},
     "execution_count": 77
    }
   ],
   "source": [
    "kClassifier = KNeighborsClassifier()\n",
    "search = GridSearchCV(kClassifier, param_grid={\"n_neighbors\":[k for k in range(1,51)]})\n",
    "search.fit(X_student_train, y_student_train)\n",
    "\n",
    "kClassifier = KNeighborsClassifier(n_neighbors=search.best_params_[\"n_neighbors\"])\n",
    "kClassifier.fit(X_student_train, y_student_train)\n",
    "y_student_test_pred = kClassifier.predict(X_student_test)\n",
    "overall_accuracy(y_student_test, y_student_test_pred)"
   ]
  },
  {
   "cell_type": "code",
   "execution_count": 119,
   "metadata": {},
   "outputs": [
    {
     "output_type": "execute_result",
     "data": {
      "text/plain": [
       "0.65"
      ]
     },
     "metadata": {},
     "execution_count": 119
    }
   ],
   "source": [
    "forest = RandomForestClassifier()\n",
    "forest.fit(X_student_train, y_student_train)\n",
    "y_student_test_pred = forest.predict(X_student_test)\n",
    "overall_accuracy(y_student_test, y_student_test_pred)"
   ]
  },
  {
   "cell_type": "code",
   "execution_count": 82,
   "metadata": {},
   "outputs": [],
   "source": [
    "students_performance = pd.read_csv(\"StudentsPerformance.csv\")"
   ]
  },
  {
   "cell_type": "code",
   "execution_count": 89,
   "metadata": {},
   "outputs": [
    {
     "output_type": "execute_result",
     "data": {
      "text/plain": [
       "gender                         0\n",
       "race/ethnicity                 0\n",
       "parental level of education    0\n",
       "lunch                          0\n",
       "test preparation course        0\n",
       "math score                     0\n",
       "reading score                  0\n",
       "writing score                  0\n",
       "dtype: int64"
      ]
     },
     "metadata": {},
     "execution_count": 89
    }
   ],
   "source": [
    "students_performance.isna().sum()"
   ]
  },
  {
   "cell_type": "code",
   "execution_count": 95,
   "metadata": {},
   "outputs": [
    {
     "output_type": "execute_result",
     "data": {
      "text/plain": [
       "0.876"
      ]
     },
     "metadata": {},
     "execution_count": 95
    }
   ],
   "source": [
    "# preprocessing with the scaler\n",
    "X_train_perf, X_test_perf, y_train_perf, y_test_perf = train_test_split(students_performance[[\"math score\", \"reading score\", \"writing score\"]], students_performance[\"gender\"])\n",
    "scaler = StandardScaler()\n",
    "\n",
    "X_train_perf[[\"math score\", \"reading score\", \"writing score\"]] = scaler.fit_transform(X_train_perf[[\"math score\", \"reading score\", \"writing score\"]]) \n",
    "X_test_perf[[\"math score\", \"reading score\", \"writing score\"]] = scaler.fit_transform(X_test_perf[[\"math score\", \"reading score\", \"writing score\"]]) \n",
    "\n",
    "kClassifier = KNeighborsClassifier()\n",
    "search = GridSearchCV(kClassifier, param_grid={\"n_neighbors\":[k for k in range(1,30)]})\n",
    "search.fit(X_train_perf, y_train_perf)\n",
    "\n",
    "kClassifier = KNeighborsClassifier(n_neighbors=search.best_params_[\"n_neighbors\"])\n",
    "kClassifier.fit(X_train_perf, y_train_perf)\n",
    "y_pred = kClassifier.predict(X_test_perf)\n",
    "overall_accuracy(y_test_perf, y_pred)"
   ]
  },
  {
   "cell_type": "code",
   "execution_count": 120,
   "metadata": {},
   "outputs": [
    {
     "output_type": "execute_result",
     "data": {
      "text/plain": [
       "0.8693333333333333"
      ]
     },
     "metadata": {},
     "execution_count": 120
    }
   ],
   "source": [
    "y_pred = kClassifier.predict(X_train_perf)\n",
    "overall_accuracy(y_train_perf, y_pred)"
   ]
  }
 ]
}