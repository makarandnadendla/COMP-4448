{
 "metadata": {
  "language_info": {
   "codemirror_mode": {
    "name": "ipython",
    "version": 3
   },
   "file_extension": ".py",
   "mimetype": "text/x-python",
   "name": "python",
   "nbconvert_exporter": "python",
   "pygments_lexer": "ipython3",
   "version": "3.7.6-final"
  },
  "orig_nbformat": 2,
  "kernelspec": {
   "name": "python3",
   "display_name": "Python 3",
   "language": "python"
  }
 },
 "nbformat": 4,
 "nbformat_minor": 2,
 "cells": [
  {
   "source": [
    "# Rule Based Classification\n",
    "University of Denver\n",
    "\n",
    "Makarand Nadendla"
   ],
   "cell_type": "markdown",
   "metadata": {}
  },
  {
   "cell_type": "code",
   "execution_count": 1,
   "metadata": {},
   "outputs": [],
   "source": [
    "import numpy as np\n",
    "import pandas as pd\n",
    "import matplotlib.pyplot as pyplot\n",
    "import seaborn as sns "
   ]
  },
  {
   "cell_type": "code",
   "execution_count": 2,
   "metadata": {},
   "outputs": [],
   "source": [
    "income_tax_df = pd.read_csv(\"cheat.csv\", sep=\"\t\")"
   ]
  },
  {
   "cell_type": "code",
   "execution_count": 8,
   "metadata": {},
   "outputs": [],
   "source": [
    "def predict(tax_row):\n",
    "    if tax_row[\"refund\"] == \"yes\":\n",
    "        return \"no\"\n",
    "    else:\n",
    "        if tax_row[\"income_above_80k\"] == \"no\":\n",
    "            return \"no\"\n",
    "        else:\n",
    "            if tax_row[\"marital_status\"] == \"married\":\n",
    "                return \"no\"\n",
    "            else:\n",
    "                return \"yes\""
   ]
  },
  {
   "cell_type": "code",
   "execution_count": 9,
   "metadata": {},
   "outputs": [
    {
     "output_type": "execute_result",
     "data": {
      "text/plain": [
       "  refund marital_status income_above_80k cheat predicted_cheat\n",
       "0    yes         single              yes    no              no\n",
       "1     no        married              yes    no              no\n",
       "2     no         single               no    no              no\n",
       "3    yes        married              yes    no              no\n",
       "4     no       divorced              yes   yes             yes\n",
       "5     no        married               no    no              no\n",
       "6    yes       divorced              yes    no              no\n",
       "7     no         single              yes   yes             yes\n",
       "8     no        married               no    no              no\n",
       "9     no         single              yes   yes             yes"
      ],
      "text/html": "<div>\n<style scoped>\n    .dataframe tbody tr th:only-of-type {\n        vertical-align: middle;\n    }\n\n    .dataframe tbody tr th {\n        vertical-align: top;\n    }\n\n    .dataframe thead th {\n        text-align: right;\n    }\n</style>\n<table border=\"1\" class=\"dataframe\">\n  <thead>\n    <tr style=\"text-align: right;\">\n      <th></th>\n      <th>refund</th>\n      <th>marital_status</th>\n      <th>income_above_80k</th>\n      <th>cheat</th>\n      <th>predicted_cheat</th>\n    </tr>\n  </thead>\n  <tbody>\n    <tr>\n      <th>0</th>\n      <td>yes</td>\n      <td>single</td>\n      <td>yes</td>\n      <td>no</td>\n      <td>no</td>\n    </tr>\n    <tr>\n      <th>1</th>\n      <td>no</td>\n      <td>married</td>\n      <td>yes</td>\n      <td>no</td>\n      <td>no</td>\n    </tr>\n    <tr>\n      <th>2</th>\n      <td>no</td>\n      <td>single</td>\n      <td>no</td>\n      <td>no</td>\n      <td>no</td>\n    </tr>\n    <tr>\n      <th>3</th>\n      <td>yes</td>\n      <td>married</td>\n      <td>yes</td>\n      <td>no</td>\n      <td>no</td>\n    </tr>\n    <tr>\n      <th>4</th>\n      <td>no</td>\n      <td>divorced</td>\n      <td>yes</td>\n      <td>yes</td>\n      <td>yes</td>\n    </tr>\n    <tr>\n      <th>5</th>\n      <td>no</td>\n      <td>married</td>\n      <td>no</td>\n      <td>no</td>\n      <td>no</td>\n    </tr>\n    <tr>\n      <th>6</th>\n      <td>yes</td>\n      <td>divorced</td>\n      <td>yes</td>\n      <td>no</td>\n      <td>no</td>\n    </tr>\n    <tr>\n      <th>7</th>\n      <td>no</td>\n      <td>single</td>\n      <td>yes</td>\n      <td>yes</td>\n      <td>yes</td>\n    </tr>\n    <tr>\n      <th>8</th>\n      <td>no</td>\n      <td>married</td>\n      <td>no</td>\n      <td>no</td>\n      <td>no</td>\n    </tr>\n    <tr>\n      <th>9</th>\n      <td>no</td>\n      <td>single</td>\n      <td>yes</td>\n      <td>yes</td>\n      <td>yes</td>\n    </tr>\n  </tbody>\n</table>\n</div>"
     },
     "metadata": {},
     "execution_count": 9
    }
   ],
   "source": [
    "income_tax_df[\"predicted_cheat\"] = income_tax_df.apply(predict, axis = 1)\n",
    "income_tax_df.head(10)"
   ]
  },
  {
   "cell_type": "code",
   "execution_count": 31,
   "metadata": {},
   "outputs": [],
   "source": [
    "def vector_predict(tax_df):\n",
    "    cheat_predict_vector = np.where((income_tax_df[\"refund\"] == \"no\") & (income_tax_df[\"income_above_80k\"] == \"yes\") & ((income_tax_df[\"marital_status\"] == \"single\") | (income_tax_df[\"marital_status\"] == \"divorced\")), 1, 0)\n",
    "    return cheat_predict_vector"
   ]
  },
  {
   "cell_type": "code",
   "execution_count": 32,
   "metadata": {},
   "outputs": [
    {
     "output_type": "execute_result",
     "data": {
      "text/plain": [
       "array([0, 0, 0, 0, 1, 0, 0, 1, 0, 1])"
      ]
     },
     "metadata": {},
     "execution_count": 32
    }
   ],
   "source": [
    "vector_predict(income_tax_df)"
   ]
  },
  {
   "cell_type": "code",
   "execution_count": 90,
   "metadata": {},
   "outputs": [],
   "source": [
    "def overall_accuracy(predict, ground_truth):\n",
    "    total = len(predict)\n",
    "    matching_entries = 0\n",
    "    for i, v in zip(predict, ground_truth):\n",
    "        if i == v:\n",
    "            matching_entries += 1\n",
    "    return matching_entries/total"
   ]
  },
  {
   "cell_type": "code",
   "execution_count": 10,
   "metadata": {},
   "outputs": [
    {
     "output_type": "execute_result",
     "data": {
      "text/plain": [
       "1.0"
      ]
     },
     "metadata": {},
     "execution_count": 10
    }
   ],
   "source": [
    "overall_accuracy(income_tax_df[\"predicted_cheat\"], income_tax_df[\"cheat\"])"
   ]
  },
  {
   "cell_type": "code",
   "execution_count": 11,
   "metadata": {},
   "outputs": [
    {
     "output_type": "execute_result",
     "data": {
      "text/plain": [
       "cheat            no  yes\n",
       "predicted_cheat         \n",
       "no                7    0\n",
       "yes               0    3"
      ],
      "text/html": "<div>\n<style scoped>\n    .dataframe tbody tr th:only-of-type {\n        vertical-align: middle;\n    }\n\n    .dataframe tbody tr th {\n        vertical-align: top;\n    }\n\n    .dataframe thead th {\n        text-align: right;\n    }\n</style>\n<table border=\"1\" class=\"dataframe\">\n  <thead>\n    <tr style=\"text-align: right;\">\n      <th>cheat</th>\n      <th>no</th>\n      <th>yes</th>\n    </tr>\n    <tr>\n      <th>predicted_cheat</th>\n      <th></th>\n      <th></th>\n    </tr>\n  </thead>\n  <tbody>\n    <tr>\n      <th>no</th>\n      <td>7</td>\n      <td>0</td>\n    </tr>\n    <tr>\n      <th>yes</th>\n      <td>0</td>\n      <td>3</td>\n    </tr>\n  </tbody>\n</table>\n</div>"
     },
     "metadata": {},
     "execution_count": 11
    }
   ],
   "source": [
    "pd.crosstab(income_tax_df[\"predicted_cheat\"], income_tax_df[\"cheat\"])"
   ]
  },
  {
   "cell_type": "code",
   "execution_count": 87,
   "metadata": {},
   "outputs": [
    {
     "output_type": "execute_result",
     "data": {
      "text/plain": [
       "  refund marital_status income_above_80k cheat\n",
       "0     no         single              yes    no\n",
       "1     no         single              yes    no\n",
       "2     no        married              yes    no\n",
       "3     no       divorced               no    no\n",
       "4     no        married              yes    no\n",
       "5     no         single              yes    no\n",
       "6    yes         single              yes    no\n",
       "7     no         single              yes   yes\n",
       "8    yes        married              yes   yes\n",
       "9    yes         single               no   yes"
      ],
      "text/html": "<div>\n<style scoped>\n    .dataframe tbody tr th:only-of-type {\n        vertical-align: middle;\n    }\n\n    .dataframe tbody tr th {\n        vertical-align: top;\n    }\n\n    .dataframe thead th {\n        text-align: right;\n    }\n</style>\n<table border=\"1\" class=\"dataframe\">\n  <thead>\n    <tr style=\"text-align: right;\">\n      <th></th>\n      <th>refund</th>\n      <th>marital_status</th>\n      <th>income_above_80k</th>\n      <th>cheat</th>\n    </tr>\n  </thead>\n  <tbody>\n    <tr>\n      <th>0</th>\n      <td>no</td>\n      <td>single</td>\n      <td>yes</td>\n      <td>no</td>\n    </tr>\n    <tr>\n      <th>1</th>\n      <td>no</td>\n      <td>single</td>\n      <td>yes</td>\n      <td>no</td>\n    </tr>\n    <tr>\n      <th>2</th>\n      <td>no</td>\n      <td>married</td>\n      <td>yes</td>\n      <td>no</td>\n    </tr>\n    <tr>\n      <th>3</th>\n      <td>no</td>\n      <td>divorced</td>\n      <td>no</td>\n      <td>no</td>\n    </tr>\n    <tr>\n      <th>4</th>\n      <td>no</td>\n      <td>married</td>\n      <td>yes</td>\n      <td>no</td>\n    </tr>\n    <tr>\n      <th>5</th>\n      <td>no</td>\n      <td>single</td>\n      <td>yes</td>\n      <td>no</td>\n    </tr>\n    <tr>\n      <th>6</th>\n      <td>yes</td>\n      <td>single</td>\n      <td>yes</td>\n      <td>no</td>\n    </tr>\n    <tr>\n      <th>7</th>\n      <td>no</td>\n      <td>single</td>\n      <td>yes</td>\n      <td>yes</td>\n    </tr>\n    <tr>\n      <th>8</th>\n      <td>yes</td>\n      <td>married</td>\n      <td>yes</td>\n      <td>yes</td>\n    </tr>\n    <tr>\n      <th>9</th>\n      <td>yes</td>\n      <td>single</td>\n      <td>no</td>\n      <td>yes</td>\n    </tr>\n  </tbody>\n</table>\n</div>"
     },
     "metadata": {},
     "execution_count": 87
    }
   ],
   "source": [
    "income_tax_df_2 = pd.read_csv(\"cheat2.csv\", sep=\"\t\")\n",
    "income_tax_df_2.head(10)"
   ]
  },
  {
   "cell_type": "code",
   "execution_count": 18,
   "metadata": {},
   "outputs": [
    {
     "output_type": "execute_result",
     "data": {
      "text/plain": [
       "  refund marital_status income_above_80k cheat predicted_cheat\n",
       "0     no         single              yes    no             yes\n",
       "1     no         single              yes    no             yes\n",
       "2     no        married              yes    no              no\n",
       "3     no       divorced               no    no              no\n",
       "4     no        married              yes    no              no\n",
       "5     no         single              yes    no             yes\n",
       "6    yes         single              yes    no              no\n",
       "7     no         single              yes   yes             yes\n",
       "8    yes        married              yes   yes              no\n",
       "9    yes         single               no   yes              no"
      ],
      "text/html": "<div>\n<style scoped>\n    .dataframe tbody tr th:only-of-type {\n        vertical-align: middle;\n    }\n\n    .dataframe tbody tr th {\n        vertical-align: top;\n    }\n\n    .dataframe thead th {\n        text-align: right;\n    }\n</style>\n<table border=\"1\" class=\"dataframe\">\n  <thead>\n    <tr style=\"text-align: right;\">\n      <th></th>\n      <th>refund</th>\n      <th>marital_status</th>\n      <th>income_above_80k</th>\n      <th>cheat</th>\n      <th>predicted_cheat</th>\n    </tr>\n  </thead>\n  <tbody>\n    <tr>\n      <th>0</th>\n      <td>no</td>\n      <td>single</td>\n      <td>yes</td>\n      <td>no</td>\n      <td>yes</td>\n    </tr>\n    <tr>\n      <th>1</th>\n      <td>no</td>\n      <td>single</td>\n      <td>yes</td>\n      <td>no</td>\n      <td>yes</td>\n    </tr>\n    <tr>\n      <th>2</th>\n      <td>no</td>\n      <td>married</td>\n      <td>yes</td>\n      <td>no</td>\n      <td>no</td>\n    </tr>\n    <tr>\n      <th>3</th>\n      <td>no</td>\n      <td>divorced</td>\n      <td>no</td>\n      <td>no</td>\n      <td>no</td>\n    </tr>\n    <tr>\n      <th>4</th>\n      <td>no</td>\n      <td>married</td>\n      <td>yes</td>\n      <td>no</td>\n      <td>no</td>\n    </tr>\n    <tr>\n      <th>5</th>\n      <td>no</td>\n      <td>single</td>\n      <td>yes</td>\n      <td>no</td>\n      <td>yes</td>\n    </tr>\n    <tr>\n      <th>6</th>\n      <td>yes</td>\n      <td>single</td>\n      <td>yes</td>\n      <td>no</td>\n      <td>no</td>\n    </tr>\n    <tr>\n      <th>7</th>\n      <td>no</td>\n      <td>single</td>\n      <td>yes</td>\n      <td>yes</td>\n      <td>yes</td>\n    </tr>\n    <tr>\n      <th>8</th>\n      <td>yes</td>\n      <td>married</td>\n      <td>yes</td>\n      <td>yes</td>\n      <td>no</td>\n    </tr>\n    <tr>\n      <th>9</th>\n      <td>yes</td>\n      <td>single</td>\n      <td>no</td>\n      <td>yes</td>\n      <td>no</td>\n    </tr>\n  </tbody>\n</table>\n</div>"
     },
     "metadata": {},
     "execution_count": 18
    }
   ],
   "source": [
    "income_tax_df_2[\"predicted_cheat\"] = income_tax_df_2.apply(predict, axis = 1)\n",
    "income_tax_df_2.head(10)"
   ]
  },
  {
   "cell_type": "code",
   "execution_count": 19,
   "metadata": {},
   "outputs": [
    {
     "output_type": "execute_result",
     "data": {
      "text/plain": [
       "0.5"
      ]
     },
     "metadata": {},
     "execution_count": 19
    }
   ],
   "source": [
    "overall_accuracy(income_tax_df_2[\"cheat\"] ,income_tax_df_2[\"predicted_cheat\"] )"
   ]
  },
  {
   "cell_type": "code",
   "execution_count": 32,
   "metadata": {},
   "outputs": [],
   "source": [
    "def entropy(matrix, target):\n",
    "    vector = matrix[target]\n",
    " \n",
    "    prop = vector.value_counts()/len(vector)\n",
    "    total_entropy = 0\n",
    "\n",
    "    # calculate the entropy\n",
    "    for p in prop:\n",
    "        total_entropy += p*np.log2(p)\n",
    "\n",
    "    return -total_entropy"
   ]
  },
  {
   "cell_type": "code",
   "execution_count": 33,
   "metadata": {},
   "outputs": [
    {
     "output_type": "execute_result",
     "data": {
      "text/plain": [
       "0.8812908992306927"
      ]
     },
     "metadata": {},
     "execution_count": 33
    }
   ],
   "source": [
    "entropy(income_tax_df, \"cheat\")"
   ]
  },
  {
   "cell_type": "code",
   "execution_count": 18,
   "metadata": {},
   "outputs": [],
   "source": [
    "def vector_entropy(vector):\n",
    "\n",
    "    prop = vector.value_counts()/len(vector)\n",
    "    total_entropy = 0\n",
    "\n",
    "    # calculate the entropy\n",
    "    for p in prop:\n",
    "        total_entropy += p*np.log2(p)\n",
    "\n",
    "    return -total_entropy"
   ]
  },
  {
   "cell_type": "code",
   "execution_count": 20,
   "metadata": {},
   "outputs": [],
   "source": [
    "def information_gain(matrix, target, split):\n",
    "    \n",
    "    length = matrix.shape[0]\n",
    "\n",
    "    entropy_sum = 0\n",
    "    # split the target variable on the split variable\n",
    "    for cheat_split in matrix.groupby(split):\n",
    "\n",
    "        split_vector = cheat_split[1][target]\n",
    "    # calculate the length of each split\n",
    "        split_len = len(split_vector)\n",
    "\n",
    "    # calculate the entropy of each split, multiply it by the split proportion, and then sum them all together\n",
    "        entropy_sum += (split_len/length)*vector_entropy(split_vector)\n",
    "    \n",
    "    entropy_sum = vector_entropy(matrix[target]) - entropy_sum\n",
    "\n",
    "    return entropy_sum"
   ]
  },
  {
   "cell_type": "code",
   "execution_count": 26,
   "metadata": {},
   "outputs": [
    {
     "output_type": "execute_result",
     "data": {
      "text/plain": [
       "0.2812908992306926"
      ]
     },
     "metadata": {},
     "execution_count": 26
    }
   ],
   "source": [
    "information_gain(income_tax_df, \"marital_status\", \"cheat\")"
   ]
  },
  {
   "cell_type": "code",
   "execution_count": 40,
   "metadata": {},
   "outputs": [
    {
     "output_type": "execute_result",
     "data": {
      "text/plain": [
       "cheat           no  yes\n",
       "marital_status         \n",
       "divorced         1    1\n",
       "married          4    0\n",
       "single           2    2"
      ],
      "text/html": "<div>\n<style scoped>\n    .dataframe tbody tr th:only-of-type {\n        vertical-align: middle;\n    }\n\n    .dataframe tbody tr th {\n        vertical-align: top;\n    }\n\n    .dataframe thead th {\n        text-align: right;\n    }\n</style>\n<table border=\"1\" class=\"dataframe\">\n  <thead>\n    <tr style=\"text-align: right;\">\n      <th>cheat</th>\n      <th>no</th>\n      <th>yes</th>\n    </tr>\n    <tr>\n      <th>marital_status</th>\n      <th></th>\n      <th></th>\n    </tr>\n  </thead>\n  <tbody>\n    <tr>\n      <th>divorced</th>\n      <td>1</td>\n      <td>1</td>\n    </tr>\n    <tr>\n      <th>married</th>\n      <td>4</td>\n      <td>0</td>\n    </tr>\n    <tr>\n      <th>single</th>\n      <td>2</td>\n      <td>2</td>\n    </tr>\n  </tbody>\n</table>\n</div>"
     },
     "metadata": {},
     "execution_count": 40
    }
   ],
   "source": [
    "pd.crosstab(income_tax_df[\"marital_status\"], income_tax_df[\"cheat\"])"
   ]
  },
  {
   "cell_type": "code",
   "execution_count": 41,
   "metadata": {},
   "outputs": [],
   "source": [
    "def coverage(matrix, cover_cond):\n",
    "    length = matrix.shape[0]\n",
    "    cover_len = matrix[cover_cond].shape[0]\n",
    "\n",
    "    coverage = cover_len/length\n",
    "    return coverage"
   ]
  },
  {
   "cell_type": "code",
   "execution_count": 43,
   "metadata": {},
   "outputs": [
    {
     "output_type": "execute_result",
     "data": {
      "text/plain": [
       "0.4"
      ]
     },
     "metadata": {},
     "execution_count": 43
    }
   ],
   "source": [
    "coverage(income_tax_df, income_tax_df[\"marital_status\"]==\"married\")"
   ]
  },
  {
   "cell_type": "code",
   "execution_count": 84,
   "metadata": {},
   "outputs": [],
   "source": [
    "def one_rule(row):\n",
    "    if row[\"marital_status\"] == \"married\":\n",
    "        return \"no\"\n",
    "    else:\n",
    "        return \"yes\"\n",
    "\n",
    "def predict_one_rule(matrix):\n",
    "    if len(matrix.shape) > 1:\n",
    "        cheat_predict = matrix.apply(one_rule, axis = 1)\n",
    "    else:\n",
    "        cheat_predict = np.where(matrix == \"married\", \"no\", \"yes\")\n",
    "    return cheat_predict\n",
    "       "
   ]
  },
  {
   "cell_type": "code",
   "execution_count": 73,
   "metadata": {},
   "outputs": [],
   "source": [
    "def accuracy(matrix, cover_cond):\n",
    "    length = matrix.shape[0]\n",
    "\n",
    "    match_len = sum(matrix[cover_cond][\"cheat\"] == \"no\")\n",
    "\n",
    "    accuracy = match_len/length\n",
    "    return accuracy"
   ]
  },
  {
   "cell_type": "code",
   "execution_count": 74,
   "metadata": {},
   "outputs": [
    {
     "output_type": "execute_result",
     "data": {
      "text/plain": [
       "0.4"
      ]
     },
     "metadata": {},
     "execution_count": 74
    }
   ],
   "source": [
    "accuracy(income_tax_df, income_tax_df[\"marital_status\"]==\"married\")"
   ]
  },
  {
   "cell_type": "code",
   "execution_count": 91,
   "metadata": {},
   "outputs": [],
   "source": [
    "income_tax_df[\"predicted_cheat_one_rule\"] = predict_one_rule(income_tax_df)"
   ]
  },
  {
   "cell_type": "code",
   "execution_count": 92,
   "metadata": {},
   "outputs": [],
   "source": [
    "income_tax_df_2[\"predicted_cheat_one_rule\"] = predict_one_rule(income_tax_df_2)"
   ]
  },
  {
   "cell_type": "code",
   "execution_count": 94,
   "metadata": {},
   "outputs": [
    {
     "output_type": "execute_result",
     "data": {
      "text/plain": [
       "0.7"
      ]
     },
     "metadata": {},
     "execution_count": 94
    }
   ],
   "source": [
    "overall_accuracy(income_tax_df[\"predicted_cheat_one_rule\"], income_tax_df[\"cheat\"])"
   ]
  },
  {
   "cell_type": "code",
   "execution_count": 95,
   "metadata": {},
   "outputs": [
    {
     "output_type": "execute_result",
     "data": {
      "text/plain": [
       "0.4"
      ]
     },
     "metadata": {},
     "execution_count": 95
    }
   ],
   "source": [
    "overall_accuracy(income_tax_df_2[\"predicted_cheat_one_rule\"], income_tax_df_2[\"cheat\"])"
   ]
  }
 ]
}